{
  "nbformat": 4,
  "nbformat_minor": 0,
  "metadata": {
    "colab": {
      "provenance": []
    },
    "kernelspec": {
      "name": "python3",
      "display_name": "Python 3"
    },
    "language_info": {
      "name": "python"
    }
  },
  "cells": [
    {
      "cell_type": "code",
      "execution_count": 1,
      "metadata": {
        "id": "qeBAeBbWvnim"
      },
      "outputs": [],
      "source": [
        "import hashlib\n",
        "import time"
      ]
    },
    {
      "cell_type": "code",
      "source": [
        "def hash_data(data):\n",
        "  h = hashlib.new('sha256')\n",
        "  h.update(data.encode('utf-8'))\n",
        "  return h.hexdigest()"
      ],
      "metadata": {
        "id": "Y2wQVKgGxRHr"
      },
      "execution_count": 4,
      "outputs": []
    },
    {
      "cell_type": "code",
      "source": [
        "# Node class that represents a node of a binary tree\n",
        "class Node:\n",
        "    def __init__(self, data):\n",
        "        self.data = data  # Node data\n",
        "        self.left = None  # Left child\n",
        "        self.right = None  # Right child\n",
        "\n",
        "    def isLeaf(self):\n",
        "        # A node is a leaf if both left and right children are None\n",
        "        return self.left is None and self.right is None\n",
        "\n",
        "    def __str__(self):\n",
        "        return self.data"
      ],
      "metadata": {
        "id": "xxjOySrfxVPA"
      },
      "execution_count": 5,
      "outputs": []
    },
    {
      "cell_type": "code",
      "source": [
        "# Merkle tree class for actual implementation of the tree\n",
        "class MerkleTree:\n",
        "    def __init__(self):\n",
        "        self.root = None  # Root of the tree\n",
        "        self._merkleRoot = ''  # To store the final Merkle root hash\n",
        "\n",
        "    # Function to create the Merkle tree from an array of transaction strings\n",
        "    def makeTreeFromArray(self, arr):\n",
        "        if len(arr) == 0:\n",
        "            return\n",
        "\n",
        "        # Initialize the list of leaf nodes with hashed transaction data\n",
        "        leaves = [Node(hash_data(data)) for data in arr]\n",
        "\n",
        "        # While more than one node remains, build the tree upwards\n",
        "        while len(leaves) > 1:\n",
        "            temp = []\n",
        "\n",
        "            # Pair consecutive nodes and combine their hashes to create parent nodes\n",
        "            for i in range(0, len(leaves), 2):\n",
        "                left_child = leaves[i]\n",
        "                if i + 1 < len(leaves):\n",
        "                    right_child = leaves[i + 1]\n",
        "                else:\n",
        "                    # If there's an odd number of nodes, duplicate the last one\n",
        "                    right_child = left_child\n",
        "\n",
        "                # Create parent node by combining the left and right hashes\n",
        "                combined_data = hash_data(left_child.data + right_child.data)\n",
        "                parent = Node(combined_data)\n",
        "                parent.left = left_child\n",
        "                parent.right = right_child\n",
        "                temp.append(parent)\n",
        "\n",
        "            leaves = temp  # Continue to the next level with the parent nodes\n",
        "\n",
        "        # The last remaining node is the root\n",
        "        self.root = leaves[0]\n",
        "        self._merkleRoot = self.root.data\n",
        "\n",
        "    # Recursive inorder traversal utility to print the tree\n",
        "    def inorderTraversal(self, node):\n",
        "        if not node:\n",
        "            return\n",
        "        self.inorderTraversal(node.left)\n",
        "        print(node)\n",
        "        self.inorderTraversal(node.right)\n",
        "\n",
        "    # Utility function to return the Merkle root\n",
        "    def getMerkleRoot(self):\n",
        "        return self._merkleRoot\n",
        "\n",
        "    # Function to verify the integrity of a list of transactions\n",
        "    def verify(self, arr1):\n",
        "        original_root = self.getMerkleRoot()  # Get the root of the current tree\n",
        "\n",
        "        # Create a new Merkle tree from the provided array and calculate its root\n",
        "        new_tree = MerkleTree()\n",
        "        new_tree.makeTreeFromArray(arr1)\n",
        "        new_merkle_root = new_tree.getMerkleRoot()\n",
        "\n",
        "        # Compare the original Merkle root with the new one\n",
        "        if original_root == new_merkle_root:\n",
        "            print(\"Transactions verified successfully.\")\n",
        "            return True\n",
        "        else:\n",
        "            print(\"Transactions have been tampered.\")\n",
        "            return False\n"
      ],
      "metadata": {
        "id": "n6pd90JeywCY"
      },
      "execution_count": 6,
      "outputs": []
    },
    {
      "cell_type": "code",
      "source": [
        "# Example usage\n",
        "if __name__ == \"__main__\":\n",
        "    # Create a list of transactions\n",
        "    transactions = [\"tx1\", \"tx2\", \"tx3\", \"tx4\"]\n",
        "\n",
        "    # Create a Merkle tree\n",
        "    merkle_tree = MerkleTree()\n",
        "    merkle_tree.makeTreeFromArray(transactions)\n",
        "\n",
        "    # Print the Merkle root\n",
        "    print(\"Merkle Root:\", merkle_tree.getMerkleRoot())\n",
        "\n",
        "    # Inorder traversal of the tree\n",
        "    print(\"\\nInorder Traversal of the Merkle Tree:\")\n",
        "    merkle_tree.inorderTraversal(merkle_tree.root)\n",
        "\n",
        "    # Verification of the transactions\n",
        "    print(\"\\nVerifying transactions...\")\n",
        "    merkle_tree.verify(transactions)\n",
        "\n",
        "    # Test with tampered transactions\n",
        "    tampered_transactions = [\"tx1\", \"tx2\", \"txX\", \"tx4\"]\n",
        "    print(\"\\nVerifying tampered transactions...\")\n",
        "    merkle_tree.verify(tampered_transactions)"
      ],
      "metadata": {
        "colab": {
          "base_uri": "https://localhost:8080/"
        },
        "id": "90uHs92fy1B6",
        "outputId": "3ad964e7-8350-4282-b84a-f0c00c708ba7"
      },
      "execution_count": 7,
      "outputs": [
        {
          "output_type": "stream",
          "name": "stdout",
          "text": [
            "Merkle Root: 773bc304a3b0a626a520a8d6eacc36809ac18c0b174f3ff3cdaf0a4e9c64433d\n",
            "\n",
            "Inorder Traversal of the Merkle Tree:\n",
            "709b55bd3da0f5a838125bd0ee20c5bfdd7caba173912d4281cae816b79a201b\n",
            "f8f28ede979567036d801ad6cf58b551c7d8530bba005c48e46d39c73ab52664\n",
            "27ca64c092a959c7edc525ed45e845b1de6a7590d173fd2fad9133c8a779a1e3\n",
            "773bc304a3b0a626a520a8d6eacc36809ac18c0b174f3ff3cdaf0a4e9c64433d\n",
            "1f3cb18e896256d7d6bb8c11a6ec71f005c75de05e39beae5d93bbd1e2c8b7a9\n",
            "850cf301915d09ebcfa84e2ee4087025e17a6fca7e4149ce02cff94cd3db55de\n",
            "41b637cfd9eb3e2f60f734f9ca44e5c1559c6f481d49d6ed6891f3e9a086ac78\n",
            "\n",
            "Verifying transactions...\n",
            "Transactions verified successfully.\n",
            "\n",
            "Verifying tampered transactions...\n",
            "Transactions have been tampered.\n"
          ]
        }
      ]
    },
    {
      "cell_type": "code",
      "source": [],
      "metadata": {
        "id": "KBuzyeTby4Fm"
      },
      "execution_count": null,
      "outputs": []
    }
  ]
}